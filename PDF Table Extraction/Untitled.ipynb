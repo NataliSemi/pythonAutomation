{
 "cells": [
  {
   "cell_type": "code",
   "execution_count": 1,
   "id": "ba50b9de",
   "metadata": {},
   "outputs": [],
   "source": [
    "import camelot as cm"
   ]
  },
  {
   "cell_type": "code",
   "execution_count": 2,
   "id": "340e3088",
   "metadata": {},
   "outputs": [
    {
     "name": "stdout",
     "output_type": "stream",
     "text": [
      " Volume in drive D is Files, Folders\n",
      " Volume Serial Number is 1344-0637\n",
      "\n",
      " Directory of D:\\Python\\pythonAutomation\\pythonAutomation\\PDF Table Extraction\n",
      "\n",
      "02/13/2022  05:14 PM    <DIR>          .\n",
      "02/13/2022  05:14 PM    <DIR>          ..\n",
      "02/13/2022  05:14 PM    <DIR>          .ipynb_checkpoints\n",
      "02/13/2022  05:03 PM           850,276 india_factsheet_economic_n_hdi.pdf\n",
      "02/13/2022  05:14 PM             1,667 requirements.txt\n",
      "02/13/2022  05:14 PM                72 Untitled.ipynb\n",
      "               3 File(s)        852,015 bytes\n",
      "               3 Dir(s)  183,128,408,064 bytes free\n"
     ]
    }
   ],
   "source": [
    "ls"
   ]
  },
  {
   "cell_type": "code",
   "execution_count": 3,
   "id": "80aa47d2",
   "metadata": {},
   "outputs": [
    {
     "ename": "AttributeError",
     "evalue": "module 'camelot' has no attribute 'read_pdf'",
     "output_type": "error",
     "traceback": [
      "\u001b[1;31m---------------------------------------------------------------------------\u001b[0m",
      "\u001b[1;31mAttributeError\u001b[0m                            Traceback (most recent call last)",
      "\u001b[1;32m~\\AppData\\Local\\Temp\\ipykernel_11088\\2485115038.py\u001b[0m in \u001b[0;36m<module>\u001b[1;34m\u001b[0m\n\u001b[1;32m----> 1\u001b[1;33m \u001b[0minput_pdf\u001b[0m \u001b[1;33m=\u001b[0m \u001b[0mcm\u001b[0m\u001b[1;33m.\u001b[0m\u001b[0mread_pdf\u001b[0m\u001b[1;33m(\u001b[0m\u001b[1;34m\"india_factsheet_economic_n_hdi.pdf\"\u001b[0m\u001b[1;33m,\u001b[0m \u001b[0mflavoe\u001b[0m\u001b[1;33m=\u001b[0m\u001b[1;34m\"latiice\"\u001b[0m\u001b[1;33m,\u001b[0m \u001b[0mpages\u001b[0m\u001b[1;33m=\u001b[0m\u001b[1;34m\"1,2\"\u001b[0m\u001b[1;33m)\u001b[0m\u001b[1;33m\u001b[0m\u001b[1;33m\u001b[0m\u001b[0m\n\u001b[0m",
      "\u001b[1;31mAttributeError\u001b[0m: module 'camelot' has no attribute 'read_pdf'"
     ]
    }
   ],
   "source": [
    "input_pdf = cm.read_pdf(\"india_factsheet_economic_n_hdi.pdf\", flavoe=\"latiice\", pages=\"1,2\")"
   ]
  }
 ],
 "metadata": {
  "kernelspec": {
   "display_name": "Python 3 (ipykernel)",
   "language": "python",
   "name": "python3"
  },
  "language_info": {
   "codemirror_mode": {
    "name": "ipython",
    "version": 3
   },
   "file_extension": ".py",
   "mimetype": "text/x-python",
   "name": "python",
   "nbconvert_exporter": "python",
   "pygments_lexer": "ipython3",
   "version": "3.7.7"
  }
 },
 "nbformat": 4,
 "nbformat_minor": 5
}
