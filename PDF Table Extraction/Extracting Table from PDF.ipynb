{
 "cells": [
  {
   "cell_type": "code",
   "execution_count": 3,
   "id": "ba50b9de",
   "metadata": {},
   "outputs": [],
   "source": [
    "import camelot as cm"
   ]
  },
  {
   "cell_type": "code",
   "execution_count": 4,
   "id": "340e3088",
   "metadata": {},
   "outputs": [
    {
     "name": "stdout",
     "output_type": "stream",
     "text": [
      "Requirement already satisfied: camelot-py in d:\\python\\pythonautomation\\env\\lib\\site-packages (0.10.1)\n",
      "Requirement already satisfied: pandas>=0.23.4 in d:\\python\\pythonautomation\\env\\lib\\site-packages (from camelot-py) (1.3.5)\n",
      "Requirement already satisfied: pdfminer.six>=20200726 in d:\\python\\pythonautomation\\env\\lib\\site-packages (from camelot-py) (20211012)\n",
      "Requirement already satisfied: PyPDF2>=1.26.0 in d:\\python\\pythonautomation\\env\\lib\\site-packages (from camelot-py) (1.26.0)\n",
      "Requirement already satisfied: tabulate>=0.8.9 in d:\\python\\pythonautomation\\env\\lib\\site-packages (from camelot-py) (0.8.9)\n",
      "Requirement already satisfied: click>=6.7 in d:\\python\\pythonautomation\\env\\lib\\site-packages (from camelot-py) (8.0.3)\n",
      "Requirement already satisfied: numpy>=1.13.3 in d:\\python\\pythonautomation\\env\\lib\\site-packages (from camelot-py) (1.21.5)\n",
      "Requirement already satisfied: chardet>=3.0.4 in d:\\python\\pythonautomation\\env\\lib\\site-packages (from camelot-py) (4.0.0)\n",
      "Requirement already satisfied: openpyxl>=2.5.8 in d:\\python\\pythonautomation\\env\\lib\\site-packages (from camelot-py) (3.0.9)\n",
      "Requirement already satisfied: colorama in d:\\python\\pythonautomation\\env\\lib\\site-packages (from click>=6.7->camelot-py) (0.4.4)\n",
      "Requirement already satisfied: importlib-metadata in d:\\python\\pythonautomation\\env\\lib\\site-packages (from click>=6.7->camelot-py) (4.11.0)\n",
      "Requirement already satisfied: et-xmlfile in d:\\python\\pythonautomation\\env\\lib\\site-packages (from openpyxl>=2.5.8->camelot-py) (1.1.0)\n",
      "Requirement already satisfied: python-dateutil>=2.7.3 in d:\\python\\pythonautomation\\env\\lib\\site-packages (from pandas>=0.23.4->camelot-py) (2.8.2)\n",
      "Requirement already satisfied: pytz>=2017.3 in d:\\python\\pythonautomation\\env\\lib\\site-packages (from pandas>=0.23.4->camelot-py) (2021.3)\n",
      "Requirement already satisfied: cryptography in d:\\python\\pythonautomation\\env\\lib\\site-packages (from pdfminer.six>=20200726->camelot-py) (36.0.1)\n",
      "Requirement already satisfied: six>=1.5 in d:\\python\\pythonautomation\\env\\lib\\site-packages (from python-dateutil>=2.7.3->pandas>=0.23.4->camelot-py) (1.16.0)\n",
      "Requirement already satisfied: cffi>=1.12 in d:\\python\\pythonautomation\\env\\lib\\site-packages (from cryptography->pdfminer.six>=20200726->camelot-py) (1.15.0)\n",
      "Requirement already satisfied: typing-extensions>=3.6.4 in d:\\python\\pythonautomation\\env\\lib\\site-packages (from importlib-metadata->click>=6.7->camelot-py) (3.10.0.2)\n",
      "Requirement already satisfied: zipp>=0.5 in d:\\python\\pythonautomation\\env\\lib\\site-packages (from importlib-metadata->click>=6.7->camelot-py) (3.7.0)\n",
      "Requirement already satisfied: pycparser in d:\\python\\pythonautomation\\env\\lib\\site-packages (from cffi>=1.12->cryptography->pdfminer.six>=20200726->camelot-py) (2.21)\n"
     ]
    }
   ],
   "source": [
    "!pip3 install camelot-py"
   ]
  },
  {
   "cell_type": "code",
   "execution_count": 5,
   "id": "80aa47d2",
   "metadata": {},
   "outputs": [
    {
     "ename": "AttributeError",
     "evalue": "module 'camelot' has no attribute 'read_pdf'",
     "output_type": "error",
     "traceback": [
      "\u001b[1;31m---------------------------------------------------------------------------\u001b[0m",
      "\u001b[1;31mAttributeError\u001b[0m                            Traceback (most recent call last)",
      "\u001b[1;32m~\\AppData\\Local\\Temp\\ipykernel_11380\\902115824.py\u001b[0m in \u001b[0;36m<module>\u001b[1;34m\u001b[0m\n\u001b[1;32m----> 1\u001b[1;33m \u001b[0minput_pdf\u001b[0m \u001b[1;33m=\u001b[0m \u001b[0mcm\u001b[0m\u001b[1;33m.\u001b[0m\u001b[0mread_pdf\u001b[0m\u001b[1;33m(\u001b[0m\u001b[1;34m\"india_factsheet_economic_n_hdi.pdf\"\u001b[0m\u001b[1;33m,\u001b[0m\u001b[0mflavor\u001b[0m\u001b[1;33m=\u001b[0m\u001b[1;34m'lattice'\u001b[0m\u001b[1;33m,\u001b[0m\u001b[0mpages\u001b[0m\u001b[1;33m=\u001b[0m\u001b[1;34m'1,2'\u001b[0m\u001b[1;33m)\u001b[0m\u001b[1;33m\u001b[0m\u001b[1;33m\u001b[0m\u001b[0m\n\u001b[0m",
      "\u001b[1;31mAttributeError\u001b[0m: module 'camelot' has no attribute 'read_pdf'"
     ]
    }
   ],
   "source": [
    "input_pdf = cm.read_pdf(\"india_factsheet_economic_n_hdi.pdf\",flavor='lattice',pages='1,2')"
   ]
  },
  {
   "cell_type": "code",
   "execution_count": 6,
   "id": "e9654e4c",
   "metadata": {},
   "outputs": [
    {
     "ename": "NameError",
     "evalue": "name 'input_pdf' is not defined",
     "output_type": "error",
     "traceback": [
      "\u001b[1;31m---------------------------------------------------------------------------\u001b[0m",
      "\u001b[1;31mNameError\u001b[0m                                 Traceback (most recent call last)",
      "\u001b[1;32m~\\AppData\\Local\\Temp\\ipykernel_11380\\4132341388.py\u001b[0m in \u001b[0;36m<module>\u001b[1;34m\u001b[0m\n\u001b[1;32m----> 1\u001b[1;33m \u001b[0minput_pdf\u001b[0m\u001b[1;33m\u001b[0m\u001b[1;33m\u001b[0m\u001b[0m\n\u001b[0m",
      "\u001b[1;31mNameError\u001b[0m: name 'input_pdf' is not defined"
     ]
    }
   ],
   "source": [
    "input_pdf"
   ]
  },
  {
   "cell_type": "code",
   "execution_count": 7,
   "id": "30ea65db",
   "metadata": {},
   "outputs": [
    {
     "ename": "NameError",
     "evalue": "name 'input_pdf' is not defined",
     "output_type": "error",
     "traceback": [
      "\u001b[1;31m---------------------------------------------------------------------------\u001b[0m",
      "\u001b[1;31mNameError\u001b[0m                                 Traceback (most recent call last)",
      "\u001b[1;32m~\\AppData\\Local\\Temp\\ipykernel_11380\\2785181325.py\u001b[0m in \u001b[0;36m<module>\u001b[1;34m\u001b[0m\n\u001b[1;32m----> 1\u001b[1;33m \u001b[1;32mfor\u001b[0m \u001b[0mn\u001b[0m \u001b[1;32min\u001b[0m \u001b[0minput_pdf\u001b[0m\u001b[1;33m:\u001b[0m\u001b[1;33m\u001b[0m\u001b[1;33m\u001b[0m\u001b[0m\n\u001b[0m\u001b[0;32m      2\u001b[0m     \u001b[0mprint\u001b[0m\u001b[1;33m(\u001b[0m\u001b[0mn\u001b[0m\u001b[1;33m)\u001b[0m\u001b[1;33m\u001b[0m\u001b[1;33m\u001b[0m\u001b[0m\n",
      "\u001b[1;31mNameError\u001b[0m: name 'input_pdf' is not defined"
     ]
    }
   ],
   "source": [
    "for n in input_pdf:\n",
    "    print(n)"
   ]
  },
  {
   "cell_type": "code",
   "execution_count": null,
   "id": "c90e0d64",
   "metadata": {},
   "outputs": [],
   "source": [
    "input_pdf[2].df"
   ]
  },
  {
   "cell_type": "code",
   "execution_count": null,
   "id": "e4932cb2",
   "metadata": {},
   "outputs": [],
   "source": [
    "df = input_pdf[2].df.loc[11:14,1:3]"
   ]
  },
  {
   "cell_type": "code",
   "execution_count": null,
   "id": "b3110061",
   "metadata": {},
   "outputs": [],
   "source": [
    "df"
   ]
  },
  {
   "cell_type": "code",
   "execution_count": null,
   "id": "690f4a96",
   "metadata": {},
   "outputs": [],
   "source": [
    "df = df.reset_index(drop = True)"
   ]
  },
  {
   "cell_type": "code",
   "execution_count": 2,
   "id": "e0ea74fa",
   "metadata": {},
   "outputs": [
    {
     "ename": "NameError",
     "evalue": "name 'df' is not defined",
     "output_type": "error",
     "traceback": [
      "\u001b[1;31m---------------------------------------------------------------------------\u001b[0m",
      "\u001b[1;31mNameError\u001b[0m                                 Traceback (most recent call last)",
      "\u001b[1;32m~\\AppData\\Local\\Temp\\ipykernel_7924\\2166318517.py\u001b[0m in \u001b[0;36m<module>\u001b[1;34m\u001b[0m\n\u001b[1;32m----> 1\u001b[1;33m \u001b[0mdf\u001b[0m\u001b[1;33m.\u001b[0m\u001b[0mcolimns\u001b[0m \u001b[1;33m=\u001b[0m \u001b[1;33m[\u001b[0m\u001b[1;34m\"KPI\"\u001b[0m\u001b[1;33m,\u001b[0m \u001b[1;33m]\u001b[0m\u001b[1;33m\u001b[0m\u001b[1;33m\u001b[0m\u001b[0m\n\u001b[0m",
      "\u001b[1;31mNameError\u001b[0m: name 'df' is not defined"
     ]
    }
   ],
   "source": [
    "df.colimns = [\"KPI\", \"2001\", \"2011\"]"
   ]
  },
  {
   "cell_type": "code",
   "execution_count": null,
   "id": "2a59a70d",
   "metadata": {},
   "outputs": [],
   "source": [
    "df"
   ]
  },
  {
   "cell_type": "code",
   "execution_count": null,
   "id": "0a1ebaad",
   "metadata": {},
   "outputs": [],
   "source": []
  },
  {
   "cell_type": "code",
   "execution_count": null,
   "id": "cd9438df",
   "metadata": {},
   "outputs": [],
   "source": []
  }
 ],
 "metadata": {
  "kernelspec": {
   "display_name": "Python 3 (ipykernel)",
   "language": "python",
   "name": "python3"
  },
  "language_info": {
   "codemirror_mode": {
    "name": "ipython",
    "version": 3
   },
   "file_extension": ".py",
   "mimetype": "text/x-python",
   "name": "python",
   "nbconvert_exporter": "python",
   "pygments_lexer": "ipython3",
   "version": "3.7.7"
  }
 },
 "nbformat": 4,
 "nbformat_minor": 5
}
